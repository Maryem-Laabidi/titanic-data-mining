{
 "cells": [
  {
   "cell_type": "markdown",
   "id": "ccb53c14-7228-40f5-b99e-d023b6e59e2f",
   "metadata": {},
   "source": [
    "# <center>**Prétraitement des données**"
   ]
  },
  {
   "cell_type": "markdown",
   "id": "58b630c2-2052-404d-8dde-f602451355dc",
   "metadata": {},
   "source": [
    "# 🚢 Projet Titanic - Analyse de données et Modélisation\n",
    "\n",
    "Dans ce projet, nous allons travailler sur le célèbre dataset **Titanic**, disponible sur [Kaggle](https://www.kaggle.com/competitions/titanic/overview).\n",
    "\n",
    "Ce jeu de données contient des informations sur les passagers du Titanic, telles que leur âge, leur classe sociale, leur sexe, leur port d'embarquement, etc., ainsi que l'information clé : **ont-ils survécu ou non** au naufrage.\n",
    "\n",
    "Notre objectif sera :\n",
    "- De **prétraiter** les données pour les rendre exploitables,\n",
    "- D'**analyser** les différentes variables,\n",
    "- Puis d'**appliquer des modèles de Machine Learning**, comme l'**arbre de décision**, pour prédire la survie des passagers.\n",
    "\n",
    "Ce projet est une excellente opportunité pour s'entraîner à la manipulation de données réelles et à l'utilisation d'algorithmes de classification.\n"
   ]
  },
  {
   "cell_type": "code",
   "execution_count": 14,
   "id": "6ae3569f-465f-4857-8e29-77598dd23654",
   "metadata": {},
   "outputs": [],
   "source": [
    "# Importer les bibliothèques nécessaires\n",
    "import pandas as pd\n",
    "import numpy as np\n"
   ]
  },
  {
   "cell_type": "code",
   "execution_count": 15,
   "id": "fac35ecd-8608-4949-962f-4614469ce3ac",
   "metadata": {},
   "outputs": [
    {
     "data": {
      "text/html": [
       "<div>\n",
       "<style scoped>\n",
       "    .dataframe tbody tr th:only-of-type {\n",
       "        vertical-align: middle;\n",
       "    }\n",
       "\n",
       "    .dataframe tbody tr th {\n",
       "        vertical-align: top;\n",
       "    }\n",
       "\n",
       "    .dataframe thead th {\n",
       "        text-align: right;\n",
       "    }\n",
       "</style>\n",
       "<table border=\"1\" class=\"dataframe\">\n",
       "  <thead>\n",
       "    <tr style=\"text-align: right;\">\n",
       "      <th></th>\n",
       "      <th>PassengerId</th>\n",
       "      <th>Survived</th>\n",
       "      <th>Pclass</th>\n",
       "      <th>Name</th>\n",
       "      <th>Sex</th>\n",
       "      <th>Age</th>\n",
       "      <th>SibSp</th>\n",
       "      <th>Parch</th>\n",
       "      <th>Ticket</th>\n",
       "      <th>Fare</th>\n",
       "      <th>Cabin</th>\n",
       "      <th>Embarked</th>\n",
       "    </tr>\n",
       "  </thead>\n",
       "  <tbody>\n",
       "    <tr>\n",
       "      <th>0</th>\n",
       "      <td>1</td>\n",
       "      <td>0</td>\n",
       "      <td>3</td>\n",
       "      <td>Braund, Mr. Owen Harris</td>\n",
       "      <td>male</td>\n",
       "      <td>22.0</td>\n",
       "      <td>1</td>\n",
       "      <td>0</td>\n",
       "      <td>A/5 21171</td>\n",
       "      <td>7.2500</td>\n",
       "      <td>NaN</td>\n",
       "      <td>S</td>\n",
       "    </tr>\n",
       "    <tr>\n",
       "      <th>1</th>\n",
       "      <td>2</td>\n",
       "      <td>1</td>\n",
       "      <td>1</td>\n",
       "      <td>Cumings, Mrs. John Bradley (Florence Briggs Th...</td>\n",
       "      <td>female</td>\n",
       "      <td>38.0</td>\n",
       "      <td>1</td>\n",
       "      <td>0</td>\n",
       "      <td>PC 17599</td>\n",
       "      <td>71.2833</td>\n",
       "      <td>C85</td>\n",
       "      <td>C</td>\n",
       "    </tr>\n",
       "    <tr>\n",
       "      <th>2</th>\n",
       "      <td>3</td>\n",
       "      <td>1</td>\n",
       "      <td>3</td>\n",
       "      <td>Heikkinen, Miss. Laina</td>\n",
       "      <td>female</td>\n",
       "      <td>26.0</td>\n",
       "      <td>0</td>\n",
       "      <td>0</td>\n",
       "      <td>STON/O2. 3101282</td>\n",
       "      <td>7.9250</td>\n",
       "      <td>NaN</td>\n",
       "      <td>S</td>\n",
       "    </tr>\n",
       "    <tr>\n",
       "      <th>3</th>\n",
       "      <td>4</td>\n",
       "      <td>1</td>\n",
       "      <td>1</td>\n",
       "      <td>Futrelle, Mrs. Jacques Heath (Lily May Peel)</td>\n",
       "      <td>female</td>\n",
       "      <td>35.0</td>\n",
       "      <td>1</td>\n",
       "      <td>0</td>\n",
       "      <td>113803</td>\n",
       "      <td>53.1000</td>\n",
       "      <td>C123</td>\n",
       "      <td>S</td>\n",
       "    </tr>\n",
       "    <tr>\n",
       "      <th>4</th>\n",
       "      <td>5</td>\n",
       "      <td>0</td>\n",
       "      <td>3</td>\n",
       "      <td>Allen, Mr. William Henry</td>\n",
       "      <td>male</td>\n",
       "      <td>35.0</td>\n",
       "      <td>0</td>\n",
       "      <td>0</td>\n",
       "      <td>373450</td>\n",
       "      <td>8.0500</td>\n",
       "      <td>NaN</td>\n",
       "      <td>S</td>\n",
       "    </tr>\n",
       "  </tbody>\n",
       "</table>\n",
       "</div>"
      ],
      "text/plain": [
       "   PassengerId  Survived  Pclass  \\\n",
       "0            1         0       3   \n",
       "1            2         1       1   \n",
       "2            3         1       3   \n",
       "3            4         1       1   \n",
       "4            5         0       3   \n",
       "\n",
       "                                                Name     Sex   Age  SibSp  \\\n",
       "0                            Braund, Mr. Owen Harris    male  22.0      1   \n",
       "1  Cumings, Mrs. John Bradley (Florence Briggs Th...  female  38.0      1   \n",
       "2                             Heikkinen, Miss. Laina  female  26.0      0   \n",
       "3       Futrelle, Mrs. Jacques Heath (Lily May Peel)  female  35.0      1   \n",
       "4                           Allen, Mr. William Henry    male  35.0      0   \n",
       "\n",
       "   Parch            Ticket     Fare Cabin Embarked  \n",
       "0      0         A/5 21171   7.2500   NaN        S  \n",
       "1      0          PC 17599  71.2833   C85        C  \n",
       "2      0  STON/O2. 3101282   7.9250   NaN        S  \n",
       "3      0            113803  53.1000  C123        S  \n",
       "4      0            373450   8.0500   NaN        S  "
      ]
     },
     "execution_count": 15,
     "metadata": {},
     "output_type": "execute_result"
    }
   ],
   "source": [
    "# Charger le fichier Titanic\n",
    "df = pd.read_csv(r\"C:\\Users\\TOSHIBA\\Documents\\analyse_project\\titanic\\train.csv\")  \n",
    "df.head()\n"
   ]
  },
  {
   "cell_type": "code",
   "execution_count": 16,
   "id": "a536b339-eab9-41c7-8680-ae71bd8de5db",
   "metadata": {},
   "outputs": [],
   "source": [
    "# Transformer la variable Survived\n",
    "df[\"Survived\"] = df[\"Survived\"].replace({0: \"Non-survécu\", 1: \"Survécu\"})\n",
    "\n",
    "# Transformer la variable Pclass\n",
    "df[\"Pclass\"] = df[\"Pclass\"].replace({1: \"1ère classe\", 2: \"2ème classe\", 3: \"3ème classe\"})\n"
   ]
  },
  {
   "cell_type": "markdown",
   "id": "3b844eb1-65ce-492a-aec6-4f91b723dcae",
   "metadata": {},
   "source": [
    "On remplace les valeurs numériques (0/1, 1/2/3) par des labels plus parlants pour faciliter l'interprétation des résultats."
   ]
  },
  {
   "cell_type": "code",
   "execution_count": 17,
   "id": "0d716a86-eabc-4c6a-9bfd-00172b841e4e",
   "metadata": {},
   "outputs": [],
   "source": [
    "# Remplacer les abréviations par les noms complets pour Embarked\n",
    "df[\"Embarked\"] = df[\"Embarked\"].replace({\n",
    "    'C': 'Cherbourg',\n",
    "    'Q': 'Queenstown',\n",
    "    'S': 'Southampton'\n",
    "})\n",
    "\n",
    "# Remplacer les valeurs manquantes par la modalité la plus fréquente\n",
    "df[\"Embarked\"] = df[\"Embarked\"].fillna(df[\"Embarked\"].mode()[0])\n"
   ]
  },
  {
   "cell_type": "markdown",
   "id": "e3e64aa4-afc0-464a-a31e-225fbaf91361",
   "metadata": {},
   "source": [
    "On remplace les codes (C, Q, S) par des noms complets et on remplace les valeurs manquantes (Missing) par la valeur la plus fréquente de la colonne."
   ]
  },
  {
   "cell_type": "code",
   "execution_count": 18,
   "id": "e7298b31-725e-41d4-a8b3-d06e2e1b8e84",
   "metadata": {},
   "outputs": [],
   "source": [
    "# Remplacer les valeurs manquantes dans Age par la moyenne\n",
    "# Remplacer les valeurs manquantes de Age par la moyenne\n",
    "df[\"Age\"] = df[\"Age\"].fillna(df[\"Age\"].mean())\n"
   ]
  },
  {
   "cell_type": "markdown",
   "id": "8be51339-4c72-4f06-a8f0-5e4a8af3613a",
   "metadata": {},
   "source": [
    "Les âges manquants sont remplacés par l'âge moyen du dataset pour éviter de perdre des données."
   ]
  },
  {
   "cell_type": "code",
   "execution_count": 19,
   "id": "9d275e77-8f6a-48d3-b84f-87809430e5f0",
   "metadata": {},
   "outputs": [],
   "source": [
    "# Supprimer la colonne Cabin\n",
    "df.drop(columns=['Cabin'], inplace=True)\n"
   ]
  },
  {
   "cell_type": "markdown",
   "id": "4da00d76-a21d-4365-9526-800f97e1b6eb",
   "metadata": {},
   "source": [
    "La colonne Cabin contient trop de valeurs manquantes, elle est donc supprimée pour ne pas biaiser l'analyse."
   ]
  },
  {
   "cell_type": "code",
   "execution_count": 20,
   "id": "7d2cfec4-b3d2-483e-a17b-f34d06700bcb",
   "metadata": {},
   "outputs": [],
   "source": [
    "# Supprimer les lignes dupliquées\n",
    "df.drop_duplicates(inplace=True)"
   ]
  },
  {
   "cell_type": "markdown",
   "id": "01b235b1-f76f-406d-b057-c8a332f9f706",
   "metadata": {},
   "source": [
    "On supprime d'éventuelles lignes en double pour garantir que chaque passager est unique dans notre analyse.\n",
    "\n"
   ]
  },
  {
   "cell_type": "code",
   "execution_count": 21,
   "id": "c52b6a38-23fe-40bd-92d7-653218a53993",
   "metadata": {},
   "outputs": [
    {
     "data": {
      "text/plain": [
       "PassengerId    0\n",
       "Survived       0\n",
       "Pclass         0\n",
       "Name           0\n",
       "Sex            0\n",
       "Age            0\n",
       "SibSp          0\n",
       "Parch          0\n",
       "Ticket         0\n",
       "Fare           0\n",
       "Embarked       0\n",
       "dtype: int64"
      ]
     },
     "execution_count": 21,
     "metadata": {},
     "output_type": "execute_result"
    }
   ],
   "source": [
    "# Vérifier s'il reste des valeurs manquantes\n",
    "df.isna().sum()"
   ]
  },
  {
   "cell_type": "markdown",
   "id": "799e8b67-6804-4a89-87f9-fbdd6fdcfa39",
   "metadata": {},
   "source": [
    "On s'assure qu'il ne reste plus de valeurs manquantes dans le dataset après nettoyage."
   ]
  },
  {
   "cell_type": "code",
   "execution_count": 22,
   "id": "12527918-6809-4554-bf53-77bd7afbec06",
   "metadata": {},
   "outputs": [],
   "source": [
    "# Sauvegarder le DataFrame nettoyé\n",
    "df.to_csv(r\"C:\\Users\\TOSHIBA\\Documents\\analyse_project\\titanic\\titanic_clean.csv\", index=False)\n"
   ]
  },
  {
   "cell_type": "markdown",
   "id": "54901e40-690f-4497-9b7c-4a2aa2306592",
   "metadata": {},
   "source": [
    "On sauvegarde le fichier nettoyé titanic_clean.csv dans le même dossier que train.csv."
   ]
  }
 ],
 "metadata": {
  "kernelspec": {
   "display_name": "Python 3 (ipykernel)",
   "language": "python",
   "name": "python3"
  },
  "language_info": {
   "codemirror_mode": {
    "name": "ipython",
    "version": 3
   },
   "file_extension": ".py",
   "mimetype": "text/x-python",
   "name": "python",
   "nbconvert_exporter": "python",
   "pygments_lexer": "ipython3",
   "version": "3.13.0"
  }
 },
 "nbformat": 4,
 "nbformat_minor": 5
}
